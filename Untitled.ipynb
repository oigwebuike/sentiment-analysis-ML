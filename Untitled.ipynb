{
 "cells": [
  {
   "cell_type": "code",
   "execution_count": 15,
   "metadata": {},
   "outputs": [],
   "source": [
    "import numpy as np"
   ]
  },
  {
   "cell_type": "code",
   "execution_count": 35,
   "metadata": {},
   "outputs": [],
   "source": [
    "g = [[1,2,3], ['a', 'a','b','c'], ['a',5,6], ['b',8,9], [10,11,12], ['c', 'c', 'd', 'b', 1, 3, 2, 'a']]"
   ]
  },
  {
   "cell_type": "code",
   "execution_count": 64,
   "metadata": {},
   "outputs": [],
   "source": [
    "word_count = {}\n",
    "\n",
    "def count(d):\n",
    "        for i in d:\n",
    "            for x in i:\n",
    "                word_count[x] += 1\n",
    "                \n",
    "            word_count[i] += 1\n",
    "            return word_count"
   ]
  },
  {
   "cell_type": "code",
   "execution_count": 6,
   "metadata": {},
   "outputs": [],
   "source": [
    "word_count = {}"
   ]
  },
  {
   "cell_type": "code",
   "execution_count": 32,
   "metadata": {},
   "outputs": [],
   "source": [
    "def build_w(g, vocab_size = 50):\n",
    "    \n",
    "    word_count = {}\n",
    "\n",
    "\n",
    "    def cnt(r):\n",
    "        for i in r:\n",
    "            if i in word_count:\n",
    "                word_count[i] += 1\n",
    "            else:\n",
    "                word_count[i] = 1\n",
    "            #print(word_count)    \n",
    "        return word_count\n",
    "\n",
    "    for x in g:\n",
    "        cnt(x)\n",
    "        \n",
    "    sorted_wd = sorted(word_count.items(), key=lambda item:item[1])\n",
    "    \n",
    "    wd = {}\n",
    "    \n",
    "    for idx, word in enumerate(sorted_wd[:vocab_size - 2]): # The -2 is so that we save room for the 'no word'\n",
    "        wd[word] = idx + 2\n",
    "\n",
    "    \n",
    "    \n",
    "    return wd"
   ]
  },
  {
   "cell_type": "code",
   "execution_count": null,
   "metadata": {},
   "outputs": [],
   "source": []
  },
  {
   "cell_type": "code",
   "execution_count": 36,
   "metadata": {},
   "outputs": [],
   "source": [
    "h = build_w(g)"
   ]
  },
  {
   "cell_type": "code",
   "execution_count": 37,
   "metadata": {},
   "outputs": [
    {
     "data": {
      "text/plain": [
       "{(5, 1): 2,\n",
       " (6, 1): 3,\n",
       " (8, 1): 4,\n",
       " (9, 1): 5,\n",
       " (10, 1): 6,\n",
       " (11, 1): 7,\n",
       " (12, 1): 8,\n",
       " ('d', 1): 9,\n",
       " (1, 2): 10,\n",
       " (2, 2): 11,\n",
       " (3, 2): 12,\n",
       " ('b', 3): 13,\n",
       " ('c', 3): 14,\n",
       " ('a', 4): 15}"
      ]
     },
     "execution_count": 37,
     "metadata": {},
     "output_type": "execute_result"
    }
   ],
   "source": [
    "h"
   ]
  },
  {
   "cell_type": "code",
   "execution_count": 38,
   "metadata": {},
   "outputs": [
    {
     "data": {
      "text/plain": [
       "{1: 1,\n",
       " 2: 1,\n",
       " 3: 1,\n",
       " 'a': 3,\n",
       " 'b': 2,\n",
       " 'c': 1,\n",
       " 5: 1,\n",
       " 6: 1,\n",
       " 8: 1,\n",
       " 9: 1,\n",
       " 10: 1,\n",
       " 11: 1,\n",
       " 12: 1}"
      ]
     },
     "execution_count": 38,
     "metadata": {},
     "output_type": "execute_result"
    }
   ],
   "source": [
    "word_count"
   ]
  },
  {
   "cell_type": "code",
   "execution_count": 11,
   "metadata": {},
   "outputs": [],
   "source": [
    "sorted_word = sorted(word_count.items(), key=lambda item: item[1], reverse=True)"
   ]
  },
  {
   "cell_type": "code",
   "execution_count": 12,
   "metadata": {},
   "outputs": [
    {
     "data": {
      "text/plain": [
       "[('a', 3),\n",
       " ('b', 2),\n",
       " (1, 1),\n",
       " (2, 1),\n",
       " (3, 1),\n",
       " ('c', 1),\n",
       " (5, 1),\n",
       " (6, 1),\n",
       " (8, 1),\n",
       " (9, 1),\n",
       " (10, 1),\n",
       " (11, 1),\n",
       " (12, 1)]"
      ]
     },
     "execution_count": 12,
     "metadata": {},
     "output_type": "execute_result"
    }
   ],
   "source": [
    "sorted_word"
   ]
  },
  {
   "cell_type": "code",
   "execution_count": 13,
   "metadata": {},
   "outputs": [],
   "source": [
    "#sorted_dict = dict(sorted(my_dict.items(), key=lambda item: item[0]))"
   ]
  },
  {
   "cell_type": "code",
   "execution_count": null,
   "metadata": {},
   "outputs": [],
   "source": []
  },
  {
   "cell_type": "code",
   "execution_count": 46,
   "metadata": {},
   "outputs": [
    {
     "data": {
      "text/plain": [
       "array(['1', '10', '11', '12', '2', '3', '5', '6', '8', '9', 'a', 'b', 'c'],\n",
       "      dtype='<U11')"
      ]
     },
     "execution_count": 46,
     "metadata": {},
     "output_type": "execute_result"
    }
   ],
   "source": [
    "np.unique(g)"
   ]
  },
  {
   "cell_type": "code",
   "execution_count": 75,
   "metadata": {},
   "outputs": [
    {
     "data": {
      "text/plain": [
       "[[1, 2, 3], ['a', 'b', 'c'], ['a', 5, 6], ['b', 8, 9], [10, 11, 12]]"
      ]
     },
     "execution_count": 75,
     "metadata": {},
     "output_type": "execute_result"
    }
   ],
   "source": [
    "g"
   ]
  },
  {
   "cell_type": "code",
   "execution_count": 99,
   "metadata": {},
   "outputs": [
    {
     "name": "stdout",
     "output_type": "stream",
     "text": [
      "[(1, 1), (2, 1), (3, 1)]\n",
      "[('a', 2), ('b', 1), ('c', 1)]\n",
      "[('a', 1), (5, 1), (6, 1)]\n",
      "[('b', 1), (8, 1), (9, 1)]\n",
      "[(10, 1), (11, 1), (12, 1)]\n"
     ]
    }
   ],
   "source": [
    "f = {}\n",
    "w = {}\n",
    "l = []\n",
    "count = 0\n",
    "#for i in g:\n",
    "for i in g:\n",
    "    f = Counter(i).most_common()\n",
    "    print(f)\n"
   ]
  },
  {
   "cell_type": "code",
   "execution_count": 17,
   "metadata": {},
   "outputs": [
    {
     "data": {
      "text/plain": [
       "[[1, 2, 3], ['a', 'a', 'b', 'c'], ['a', 5, 6], ['b', 8, 9], [10, 11, 12]]"
      ]
     },
     "execution_count": 17,
     "metadata": {},
     "output_type": "execute_result"
    }
   ],
   "source": [
    "g\n"
   ]
  },
  {
   "cell_type": "code",
   "execution_count": 30,
   "metadata": {},
   "outputs": [
    {
     "name": "stdout",
     "output_type": "stream",
     "text": [
      "3\n",
      "8\n",
      "16\n",
      "26\n",
      "39\n"
     ]
    }
   ],
   "source": [
    "count = 0\n",
    "f = {}\n",
    "for i in g:\n",
    "    for x in i:\n",
    "        f[x] = i.count(x)\n",
    "    for key, value in f.items(): \n",
    "        if value == 1: \n",
    "            count += 1\n",
    "    print (count)"
   ]
  },
  {
   "cell_type": "code",
   "execution_count": 20,
   "metadata": {},
   "outputs": [],
   "source": [
    "f = {}"
   ]
  },
  {
   "cell_type": "code",
   "execution_count": 39,
   "metadata": {},
   "outputs": [
    {
     "data": {
      "text/plain": [
       "'hello'"
      ]
     },
     "execution_count": 39,
     "metadata": {},
     "output_type": "execute_result"
    }
   ],
   "source": [
    "\"\"\"hello\"\"\""
   ]
  },
  {
   "cell_type": "code",
   "execution_count": 59,
   "metadata": {},
   "outputs": [
    {
     "data": {
      "text/plain": [
       "[[1, 2, 3], ['a', 'b', 'c'], ['a', 5, 6], ['b', 8, 9], [10, 11, 12]]"
      ]
     },
     "execution_count": 59,
     "metadata": {},
     "output_type": "execute_result"
    }
   ],
   "source": [
    "g"
   ]
  },
  {
   "cell_type": "code",
   "execution_count": 21,
   "metadata": {},
   "outputs": [
    {
     "data": {
      "text/plain": [
       "[10, 11, 12]"
      ]
     },
     "execution_count": 21,
     "metadata": {},
     "output_type": "execute_result"
    }
   ],
   "source": [
    "i"
   ]
  },
  {
   "cell_type": "code",
   "execution_count": 24,
   "metadata": {},
   "outputs": [],
   "source": [
    "h = ['a','b','c']"
   ]
  },
  {
   "cell_type": "code",
   "execution_count": null,
   "metadata": {},
   "outputs": [],
   "source": []
  }
 ],
 "metadata": {
  "kernelspec": {
   "display_name": "Python 3",
   "language": "python",
   "name": "python3"
  },
  "language_info": {
   "codemirror_mode": {
    "name": "ipython",
    "version": 3
   },
   "file_extension": ".py",
   "mimetype": "text/x-python",
   "name": "python",
   "nbconvert_exporter": "python",
   "pygments_lexer": "ipython3",
   "version": "3.7.9"
  }
 },
 "nbformat": 4,
 "nbformat_minor": 4
}
